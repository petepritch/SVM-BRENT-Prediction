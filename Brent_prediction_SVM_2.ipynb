{
 "cells": [
  {
   "cell_type": "markdown",
   "id": "f0e082f6",
   "metadata": {},
   "source": [
    "# Brent oil prediction using SVM\n",
    "### Pete Pritchard "
   ]
  },
  {
   "cell_type": "code",
   "execution_count": 63,
   "id": "c7a71539",
   "metadata": {},
   "outputs": [],
   "source": [
    "import pandas as pd\n",
    "import numpy as np \n",
    "import matplotlib.pyplot as plt\n",
    "import matplotlib.colors as colors\n",
    "from sklearn.utils import resample\n",
    "from sklearn.model_selection import train_test_split\n",
    "from sklearn.preprocessing import scale\n",
    "from sklearn.svm import SVC\n",
    "from sklearn.model_selection import GridSearchCV \n",
    "from sklearn.metrics import confusion_matrix\n",
    "from sklearn.metrics import plot_confusion_matrix\n",
    "from sklearn.decomposition import PCA"
   ]
  },
  {
   "cell_type": "code",
   "execution_count": 64,
   "id": "3d70ab02",
   "metadata": {},
   "outputs": [],
   "source": [
    "from pandas_datareader import DataReader\n",
    "from datetime import datetime"
   ]
  },
  {
   "cell_type": "markdown",
   "id": "bed4cbb5",
   "metadata": {},
   "source": [
    "# 1: Data import and clean"
   ]
  },
  {
   "cell_type": "code",
   "execution_count": 65,
   "id": "930dc102",
   "metadata": {},
   "outputs": [
    {
     "data": {
      "text/html": [
       "<div>\n",
       "<style scoped>\n",
       "    .dataframe tbody tr th:only-of-type {\n",
       "        vertical-align: middle;\n",
       "    }\n",
       "\n",
       "    .dataframe tbody tr th {\n",
       "        vertical-align: top;\n",
       "    }\n",
       "\n",
       "    .dataframe thead tr th {\n",
       "        text-align: left;\n",
       "    }\n",
       "\n",
       "    .dataframe thead tr:last-of-type th {\n",
       "        text-align: right;\n",
       "    }\n",
       "</style>\n",
       "<table border=\"1\" class=\"dataframe\">\n",
       "  <thead>\n",
       "    <tr>\n",
       "      <th>Attributes</th>\n",
       "      <th colspan=\"2\" halign=\"left\">Adj Close</th>\n",
       "      <th colspan=\"2\" halign=\"left\">Close</th>\n",
       "      <th colspan=\"2\" halign=\"left\">High</th>\n",
       "      <th colspan=\"2\" halign=\"left\">Low</th>\n",
       "      <th colspan=\"2\" halign=\"left\">Open</th>\n",
       "      <th colspan=\"2\" halign=\"left\">Volume</th>\n",
       "    </tr>\n",
       "    <tr>\n",
       "      <th>Symbols</th>\n",
       "      <th>SPY</th>\n",
       "      <th>BZ=F</th>\n",
       "      <th>SPY</th>\n",
       "      <th>BZ=F</th>\n",
       "      <th>SPY</th>\n",
       "      <th>BZ=F</th>\n",
       "      <th>SPY</th>\n",
       "      <th>BZ=F</th>\n",
       "      <th>SPY</th>\n",
       "      <th>BZ=F</th>\n",
       "      <th>SPY</th>\n",
       "      <th>BZ=F</th>\n",
       "    </tr>\n",
       "    <tr>\n",
       "      <th>Date</th>\n",
       "      <th></th>\n",
       "      <th></th>\n",
       "      <th></th>\n",
       "      <th></th>\n",
       "      <th></th>\n",
       "      <th></th>\n",
       "      <th></th>\n",
       "      <th></th>\n",
       "      <th></th>\n",
       "      <th></th>\n",
       "      <th></th>\n",
       "      <th></th>\n",
       "    </tr>\n",
       "  </thead>\n",
       "  <tbody>\n",
       "    <tr>\n",
       "      <th>2007-07-30</th>\n",
       "      <td>109.637550</td>\n",
       "      <td>75.739998</td>\n",
       "      <td>147.380005</td>\n",
       "      <td>75.739998</td>\n",
       "      <td>147.809998</td>\n",
       "      <td>76.529999</td>\n",
       "      <td>145.289993</td>\n",
       "      <td>75.440002</td>\n",
       "      <td>145.929993</td>\n",
       "      <td>75.849998</td>\n",
       "      <td>283017500.0</td>\n",
       "      <td>2575.0</td>\n",
       "    </tr>\n",
       "    <tr>\n",
       "      <th>2007-07-31</th>\n",
       "      <td>108.402664</td>\n",
       "      <td>77.050003</td>\n",
       "      <td>145.720001</td>\n",
       "      <td>77.050003</td>\n",
       "      <td>149.460007</td>\n",
       "      <td>77.169998</td>\n",
       "      <td>145.039993</td>\n",
       "      <td>75.669998</td>\n",
       "      <td>148.330002</td>\n",
       "      <td>75.699997</td>\n",
       "      <td>316976700.0</td>\n",
       "      <td>3513.0</td>\n",
       "    </tr>\n",
       "    <tr>\n",
       "      <th>2007-08-01</th>\n",
       "      <td>108.930779</td>\n",
       "      <td>75.349998</td>\n",
       "      <td>146.429993</td>\n",
       "      <td>75.349998</td>\n",
       "      <td>147.009995</td>\n",
       "      <td>77.059998</td>\n",
       "      <td>143.949997</td>\n",
       "      <td>74.860001</td>\n",
       "      <td>145.179993</td>\n",
       "      <td>77.000000</td>\n",
       "      <td>467670000.0</td>\n",
       "      <td>3930.0</td>\n",
       "    </tr>\n",
       "    <tr>\n",
       "      <th>2007-08-02</th>\n",
       "      <td>109.801178</td>\n",
       "      <td>75.760002</td>\n",
       "      <td>147.600006</td>\n",
       "      <td>75.760002</td>\n",
       "      <td>147.759995</td>\n",
       "      <td>76.209999</td>\n",
       "      <td>145.259995</td>\n",
       "      <td>74.269997</td>\n",
       "      <td>146.759995</td>\n",
       "      <td>75.220001</td>\n",
       "      <td>294758400.0</td>\n",
       "      <td>6180.0</td>\n",
       "    </tr>\n",
       "    <tr>\n",
       "      <th>2007-08-03</th>\n",
       "      <td>106.974312</td>\n",
       "      <td>74.750000</td>\n",
       "      <td>143.800003</td>\n",
       "      <td>74.750000</td>\n",
       "      <td>147.580002</td>\n",
       "      <td>76.000000</td>\n",
       "      <td>143.199997</td>\n",
       "      <td>74.529999</td>\n",
       "      <td>147.279999</td>\n",
       "      <td>75.389999</td>\n",
       "      <td>359398200.0</td>\n",
       "      <td>4387.0</td>\n",
       "    </tr>\n",
       "  </tbody>\n",
       "</table>\n",
       "</div>"
      ],
      "text/plain": [
       "Attributes   Adj Close                  Close                   High  \\\n",
       "Symbols            SPY       BZ=F         SPY       BZ=F         SPY   \n",
       "Date                                                                   \n",
       "2007-07-30  109.637550  75.739998  147.380005  75.739998  147.809998   \n",
       "2007-07-31  108.402664  77.050003  145.720001  77.050003  149.460007   \n",
       "2007-08-01  108.930779  75.349998  146.429993  75.349998  147.009995   \n",
       "2007-08-02  109.801178  75.760002  147.600006  75.760002  147.759995   \n",
       "2007-08-03  106.974312  74.750000  143.800003  74.750000  147.580002   \n",
       "\n",
       "Attributes                    Low                   Open             \\\n",
       "Symbols          BZ=F         SPY       BZ=F         SPY       BZ=F   \n",
       "Date                                                                  \n",
       "2007-07-30  76.529999  145.289993  75.440002  145.929993  75.849998   \n",
       "2007-07-31  77.169998  145.039993  75.669998  148.330002  75.699997   \n",
       "2007-08-01  77.059998  143.949997  74.860001  145.179993  77.000000   \n",
       "2007-08-02  76.209999  145.259995  74.269997  146.759995  75.220001   \n",
       "2007-08-03  76.000000  143.199997  74.529999  147.279999  75.389999   \n",
       "\n",
       "Attributes       Volume          \n",
       "Symbols             SPY    BZ=F  \n",
       "Date                             \n",
       "2007-07-30  283017500.0  2575.0  \n",
       "2007-07-31  316976700.0  3513.0  \n",
       "2007-08-01  467670000.0  3930.0  \n",
       "2007-08-02  294758400.0  6180.0  \n",
       "2007-08-03  359398200.0  4387.0  "
      ]
     },
     "execution_count": 65,
     "metadata": {},
     "output_type": "execute_result"
    }
   ],
   "source": [
    "start = datetime(2007, 7, 29)\n",
    "end = datetime(2022, 7, 29)\n",
    "sym = [\"SPY\",\"BZ=F\"]\n",
    "\n",
    "data = DataReader(sym, \"yahoo\", start, end)\n",
    "data.head()"
   ]
  },
  {
   "cell_type": "code",
   "execution_count": 66,
   "id": "131e1112",
   "metadata": {},
   "outputs": [],
   "source": [
    "df = data[[\"Close\",\"High\",\"Low\",\"Open\",\"Volume\"]]"
   ]
  },
  {
   "cell_type": "code",
   "execution_count": 67,
   "id": "1f451b08",
   "metadata": {},
   "outputs": [],
   "source": [
    "df.columns = [\"Brent Close\", \"SPY Close\", \"Brent High\", \"SPY High\", \"Brent Low\", \n",
    "              \"SPY Low\",\"Brent Open\", \"SPY Open\", \"Brent Volume\", \"SPY Volume\"]"
   ]
  },
  {
   "cell_type": "code",
   "execution_count": 68,
   "id": "e74588b3",
   "metadata": {},
   "outputs": [
    {
     "data": {
      "text/html": [
       "<div>\n",
       "<style scoped>\n",
       "    .dataframe tbody tr th:only-of-type {\n",
       "        vertical-align: middle;\n",
       "    }\n",
       "\n",
       "    .dataframe tbody tr th {\n",
       "        vertical-align: top;\n",
       "    }\n",
       "\n",
       "    .dataframe thead th {\n",
       "        text-align: right;\n",
       "    }\n",
       "</style>\n",
       "<table border=\"1\" class=\"dataframe\">\n",
       "  <thead>\n",
       "    <tr style=\"text-align: right;\">\n",
       "      <th></th>\n",
       "      <th>Brent Close</th>\n",
       "      <th>SPY Close</th>\n",
       "      <th>Brent High</th>\n",
       "      <th>SPY High</th>\n",
       "      <th>Brent Low</th>\n",
       "      <th>SPY Low</th>\n",
       "      <th>Brent Open</th>\n",
       "      <th>SPY Open</th>\n",
       "      <th>Brent Volume</th>\n",
       "      <th>SPY Volume</th>\n",
       "    </tr>\n",
       "    <tr>\n",
       "      <th>Date</th>\n",
       "      <th></th>\n",
       "      <th></th>\n",
       "      <th></th>\n",
       "      <th></th>\n",
       "      <th></th>\n",
       "      <th></th>\n",
       "      <th></th>\n",
       "      <th></th>\n",
       "      <th></th>\n",
       "      <th></th>\n",
       "    </tr>\n",
       "  </thead>\n",
       "  <tbody>\n",
       "    <tr>\n",
       "      <th>2007-07-31</th>\n",
       "      <td>146.550003</td>\n",
       "      <td>76.395000</td>\n",
       "      <td>148.635002</td>\n",
       "      <td>76.849998</td>\n",
       "      <td>145.164993</td>\n",
       "      <td>75.555000</td>\n",
       "      <td>147.129997</td>\n",
       "      <td>75.774998</td>\n",
       "      <td>2.999971e+08</td>\n",
       "      <td>3044.000000</td>\n",
       "    </tr>\n",
       "    <tr>\n",
       "      <th>2007-08-31</th>\n",
       "      <td>145.645652</td>\n",
       "      <td>71.258696</td>\n",
       "      <td>147.026522</td>\n",
       "      <td>72.037826</td>\n",
       "      <td>144.069999</td>\n",
       "      <td>70.489130</td>\n",
       "      <td>145.690868</td>\n",
       "      <td>71.391306</td>\n",
       "      <td>2.693878e+08</td>\n",
       "      <td>4436.173913</td>\n",
       "    </tr>\n",
       "    <tr>\n",
       "      <th>2007-09-30</th>\n",
       "      <td>149.954738</td>\n",
       "      <td>77.135263</td>\n",
       "      <td>150.572105</td>\n",
       "      <td>77.599473</td>\n",
       "      <td>148.940527</td>\n",
       "      <td>76.128948</td>\n",
       "      <td>149.709474</td>\n",
       "      <td>76.680526</td>\n",
       "      <td>1.561584e+08</td>\n",
       "      <td>3265.368421</td>\n",
       "    </tr>\n",
       "    <tr>\n",
       "      <th>2007-10-31</th>\n",
       "      <td>153.871303</td>\n",
       "      <td>82.456957</td>\n",
       "      <td>154.649131</td>\n",
       "      <td>82.999131</td>\n",
       "      <td>152.781304</td>\n",
       "      <td>81.205652</td>\n",
       "      <td>153.886087</td>\n",
       "      <td>81.946521</td>\n",
       "      <td>1.673943e+08</td>\n",
       "      <td>3216.260870</td>\n",
       "    </tr>\n",
       "    <tr>\n",
       "      <th>2007-11-30</th>\n",
       "      <td>146.478095</td>\n",
       "      <td>92.060953</td>\n",
       "      <td>147.920952</td>\n",
       "      <td>93.143333</td>\n",
       "      <td>145.229525</td>\n",
       "      <td>91.029524</td>\n",
       "      <td>146.837620</td>\n",
       "      <td>92.288572</td>\n",
       "      <td>2.606052e+08</td>\n",
       "      <td>1937.190476</td>\n",
       "    </tr>\n",
       "  </tbody>\n",
       "</table>\n",
       "</div>"
      ],
      "text/plain": [
       "            Brent Close  SPY Close  Brent High   SPY High   Brent Low  \\\n",
       "Date                                                                    \n",
       "2007-07-31   146.550003  76.395000  148.635002  76.849998  145.164993   \n",
       "2007-08-31   145.645652  71.258696  147.026522  72.037826  144.069999   \n",
       "2007-09-30   149.954738  77.135263  150.572105  77.599473  148.940527   \n",
       "2007-10-31   153.871303  82.456957  154.649131  82.999131  152.781304   \n",
       "2007-11-30   146.478095  92.060953  147.920952  93.143333  145.229525   \n",
       "\n",
       "              SPY Low  Brent Open   SPY Open  Brent Volume   SPY Volume  \n",
       "Date                                                                     \n",
       "2007-07-31  75.555000  147.129997  75.774998  2.999971e+08  3044.000000  \n",
       "2007-08-31  70.489130  145.690868  71.391306  2.693878e+08  4436.173913  \n",
       "2007-09-30  76.128948  149.709474  76.680526  1.561584e+08  3265.368421  \n",
       "2007-10-31  81.205652  153.886087  81.946521  1.673943e+08  3216.260870  \n",
       "2007-11-30  91.029524  146.837620  92.288572  2.606052e+08  1937.190476  "
      ]
     },
     "execution_count": 68,
     "metadata": {},
     "output_type": "execute_result"
    }
   ],
   "source": [
    "# Calculating the monthly average \n",
    "\n",
    "df = df.resample('1M').mean().copy()\n",
    "df.head()"
   ]
  },
  {
   "cell_type": "code",
   "execution_count": 69,
   "id": "e91a88d5",
   "metadata": {},
   "outputs": [
    {
     "data": {
      "text/plain": [
       "False"
      ]
     },
     "execution_count": 69,
     "metadata": {},
     "output_type": "execute_result"
    }
   ],
   "source": [
    "# Before I go any further - check for NaNs in the dataframe\n",
    "\n",
    "df.isnull().values.any()"
   ]
  },
  {
   "cell_type": "markdown",
   "id": "951872e4",
   "metadata": {},
   "source": [
    "The oil prediction indicator variables from Christine Baumeister"
   ]
  },
  {
   "cell_type": "code",
   "execution_count": 70,
   "id": "377a36bd",
   "metadata": {},
   "outputs": [],
   "source": [
    "# Return column \n",
    "df[\"Return\"] = df[\"Brent Close\"].pct_change()\n",
    "# H - L column \n",
    "df[\"H-L\"] = df[\"Brent High\"] - df[\"Brent Low\"]\n",
    "# Direction column - this is our label variable\n",
    "df[\"Dir\"] = (df[\"Return\"] >= 0).astype(int) ### 1 = Up, 0 = Down"
   ]
  },
  {
   "cell_type": "code",
   "execution_count": 71,
   "id": "99e35899",
   "metadata": {
    "scrolled": true
   },
   "outputs": [
    {
     "data": {
      "text/html": [
       "<div>\n",
       "<style scoped>\n",
       "    .dataframe tbody tr th:only-of-type {\n",
       "        vertical-align: middle;\n",
       "    }\n",
       "\n",
       "    .dataframe tbody tr th {\n",
       "        vertical-align: top;\n",
       "    }\n",
       "\n",
       "    .dataframe thead th {\n",
       "        text-align: right;\n",
       "    }\n",
       "</style>\n",
       "<table border=\"1\" class=\"dataframe\">\n",
       "  <thead>\n",
       "    <tr style=\"text-align: right;\">\n",
       "      <th></th>\n",
       "      <th>Brent Close</th>\n",
       "      <th>SPY Close</th>\n",
       "      <th>Brent High</th>\n",
       "      <th>SPY High</th>\n",
       "      <th>Brent Low</th>\n",
       "      <th>SPY Low</th>\n",
       "      <th>Brent Open</th>\n",
       "      <th>SPY Open</th>\n",
       "      <th>Brent Volume</th>\n",
       "      <th>SPY Volume</th>\n",
       "      <th>Return</th>\n",
       "      <th>H-L</th>\n",
       "      <th>Dir</th>\n",
       "    </tr>\n",
       "    <tr>\n",
       "      <th>Date</th>\n",
       "      <th></th>\n",
       "      <th></th>\n",
       "      <th></th>\n",
       "      <th></th>\n",
       "      <th></th>\n",
       "      <th></th>\n",
       "      <th></th>\n",
       "      <th></th>\n",
       "      <th></th>\n",
       "      <th></th>\n",
       "      <th></th>\n",
       "      <th></th>\n",
       "      <th></th>\n",
       "    </tr>\n",
       "  </thead>\n",
       "  <tbody>\n",
       "    <tr>\n",
       "      <th>2007-07-31</th>\n",
       "      <td>146.550003</td>\n",
       "      <td>76.395000</td>\n",
       "      <td>148.635002</td>\n",
       "      <td>76.849998</td>\n",
       "      <td>145.164993</td>\n",
       "      <td>75.555000</td>\n",
       "      <td>147.129997</td>\n",
       "      <td>75.774998</td>\n",
       "      <td>2.999971e+08</td>\n",
       "      <td>3044.000000</td>\n",
       "      <td>NaN</td>\n",
       "      <td>3.470009</td>\n",
       "      <td>0</td>\n",
       "    </tr>\n",
       "    <tr>\n",
       "      <th>2007-08-31</th>\n",
       "      <td>145.645652</td>\n",
       "      <td>71.258696</td>\n",
       "      <td>147.026522</td>\n",
       "      <td>72.037826</td>\n",
       "      <td>144.069999</td>\n",
       "      <td>70.489130</td>\n",
       "      <td>145.690868</td>\n",
       "      <td>71.391306</td>\n",
       "      <td>2.693878e+08</td>\n",
       "      <td>4436.173913</td>\n",
       "      <td>-0.006171</td>\n",
       "      <td>2.956523</td>\n",
       "      <td>0</td>\n",
       "    </tr>\n",
       "    <tr>\n",
       "      <th>2007-09-30</th>\n",
       "      <td>149.954738</td>\n",
       "      <td>77.135263</td>\n",
       "      <td>150.572105</td>\n",
       "      <td>77.599473</td>\n",
       "      <td>148.940527</td>\n",
       "      <td>76.128948</td>\n",
       "      <td>149.709474</td>\n",
       "      <td>76.680526</td>\n",
       "      <td>1.561584e+08</td>\n",
       "      <td>3265.368421</td>\n",
       "      <td>0.029586</td>\n",
       "      <td>1.631578</td>\n",
       "      <td>1</td>\n",
       "    </tr>\n",
       "    <tr>\n",
       "      <th>2007-10-31</th>\n",
       "      <td>153.871303</td>\n",
       "      <td>82.456957</td>\n",
       "      <td>154.649131</td>\n",
       "      <td>82.999131</td>\n",
       "      <td>152.781304</td>\n",
       "      <td>81.205652</td>\n",
       "      <td>153.886087</td>\n",
       "      <td>81.946521</td>\n",
       "      <td>1.673943e+08</td>\n",
       "      <td>3216.260870</td>\n",
       "      <td>0.026118</td>\n",
       "      <td>1.867826</td>\n",
       "      <td>1</td>\n",
       "    </tr>\n",
       "    <tr>\n",
       "      <th>2007-11-30</th>\n",
       "      <td>146.478095</td>\n",
       "      <td>92.060953</td>\n",
       "      <td>147.920952</td>\n",
       "      <td>93.143333</td>\n",
       "      <td>145.229525</td>\n",
       "      <td>91.029524</td>\n",
       "      <td>146.837620</td>\n",
       "      <td>92.288572</td>\n",
       "      <td>2.606052e+08</td>\n",
       "      <td>1937.190476</td>\n",
       "      <td>-0.048048</td>\n",
       "      <td>2.691427</td>\n",
       "      <td>0</td>\n",
       "    </tr>\n",
       "  </tbody>\n",
       "</table>\n",
       "</div>"
      ],
      "text/plain": [
       "            Brent Close  SPY Close  Brent High   SPY High   Brent Low  \\\n",
       "Date                                                                    \n",
       "2007-07-31   146.550003  76.395000  148.635002  76.849998  145.164993   \n",
       "2007-08-31   145.645652  71.258696  147.026522  72.037826  144.069999   \n",
       "2007-09-30   149.954738  77.135263  150.572105  77.599473  148.940527   \n",
       "2007-10-31   153.871303  82.456957  154.649131  82.999131  152.781304   \n",
       "2007-11-30   146.478095  92.060953  147.920952  93.143333  145.229525   \n",
       "\n",
       "              SPY Low  Brent Open   SPY Open  Brent Volume   SPY Volume  \\\n",
       "Date                                                                      \n",
       "2007-07-31  75.555000  147.129997  75.774998  2.999971e+08  3044.000000   \n",
       "2007-08-31  70.489130  145.690868  71.391306  2.693878e+08  4436.173913   \n",
       "2007-09-30  76.128948  149.709474  76.680526  1.561584e+08  3265.368421   \n",
       "2007-10-31  81.205652  153.886087  81.946521  1.673943e+08  3216.260870   \n",
       "2007-11-30  91.029524  146.837620  92.288572  2.606052e+08  1937.190476   \n",
       "\n",
       "              Return       H-L  Dir  \n",
       "Date                                 \n",
       "2007-07-31       NaN  3.470009    0  \n",
       "2007-08-31 -0.006171  2.956523    0  \n",
       "2007-09-30  0.029586  1.631578    1  \n",
       "2007-10-31  0.026118  1.867826    1  \n",
       "2007-11-30 -0.048048  2.691427    0  "
      ]
     },
     "execution_count": 71,
     "metadata": {},
     "output_type": "execute_result"
    }
   ],
   "source": [
    "df.head()"
   ]
  },
  {
   "cell_type": "code",
   "execution_count": 72,
   "id": "e87a2969",
   "metadata": {},
   "outputs": [
    {
     "data": {
      "text/html": [
       "<div>\n",
       "<style scoped>\n",
       "    .dataframe tbody tr th:only-of-type {\n",
       "        vertical-align: middle;\n",
       "    }\n",
       "\n",
       "    .dataframe tbody tr th {\n",
       "        vertical-align: top;\n",
       "    }\n",
       "\n",
       "    .dataframe thead th {\n",
       "        text-align: right;\n",
       "    }\n",
       "</style>\n",
       "<table border=\"1\" class=\"dataframe\">\n",
       "  <thead>\n",
       "    <tr style=\"text-align: right;\">\n",
       "      <th></th>\n",
       "      <th>Brent Close</th>\n",
       "      <th>SPY Close</th>\n",
       "      <th>Brent High</th>\n",
       "      <th>SPY High</th>\n",
       "      <th>Brent Low</th>\n",
       "      <th>SPY Low</th>\n",
       "      <th>Brent Open</th>\n",
       "      <th>SPY Open</th>\n",
       "      <th>Brent Volume</th>\n",
       "      <th>SPY Volume</th>\n",
       "      <th>Return</th>\n",
       "      <th>H-L</th>\n",
       "      <th>Dir</th>\n",
       "      <th>Industrial Production</th>\n",
       "      <th>GEC Index</th>\n",
       "      <th>Supply Shocks</th>\n",
       "      <th>Economic Demand</th>\n",
       "      <th>Consumption Demand</th>\n",
       "      <th>Inventory Demand</th>\n",
       "    </tr>\n",
       "    <tr>\n",
       "      <th>Date</th>\n",
       "      <th></th>\n",
       "      <th></th>\n",
       "      <th></th>\n",
       "      <th></th>\n",
       "      <th></th>\n",
       "      <th></th>\n",
       "      <th></th>\n",
       "      <th></th>\n",
       "      <th></th>\n",
       "      <th></th>\n",
       "      <th></th>\n",
       "      <th></th>\n",
       "      <th></th>\n",
       "      <th></th>\n",
       "      <th></th>\n",
       "      <th></th>\n",
       "      <th></th>\n",
       "      <th></th>\n",
       "      <th></th>\n",
       "    </tr>\n",
       "  </thead>\n",
       "  <tbody>\n",
       "    <tr>\n",
       "      <th>2007-07-31</th>\n",
       "      <td>146.550003</td>\n",
       "      <td>76.395000</td>\n",
       "      <td>148.635002</td>\n",
       "      <td>76.849998</td>\n",
       "      <td>145.164993</td>\n",
       "      <td>75.555000</td>\n",
       "      <td>147.129997</td>\n",
       "      <td>75.774998</td>\n",
       "      <td>2.999971e+08</td>\n",
       "      <td>3044.000000</td>\n",
       "      <td>NaN</td>\n",
       "      <td>3.470009</td>\n",
       "      <td>0</td>\n",
       "      <td>111.9780</td>\n",
       "      <td>0.258167</td>\n",
       "      <td>0.314248</td>\n",
       "      <td>0.085265</td>\n",
       "      <td>4.125458</td>\n",
       "      <td>-0.862854</td>\n",
       "    </tr>\n",
       "    <tr>\n",
       "      <th>2007-08-31</th>\n",
       "      <td>145.645652</td>\n",
       "      <td>71.258696</td>\n",
       "      <td>147.026522</td>\n",
       "      <td>72.037826</td>\n",
       "      <td>144.069999</td>\n",
       "      <td>70.489130</td>\n",
       "      <td>145.690868</td>\n",
       "      <td>71.391306</td>\n",
       "      <td>2.693878e+08</td>\n",
       "      <td>4436.173913</td>\n",
       "      <td>-0.006171</td>\n",
       "      <td>2.956523</td>\n",
       "      <td>0</td>\n",
       "      <td>112.4597</td>\n",
       "      <td>-0.134781</td>\n",
       "      <td>-0.701338</td>\n",
       "      <td>-0.118095</td>\n",
       "      <td>-2.180688</td>\n",
       "      <td>-1.224690</td>\n",
       "    </tr>\n",
       "    <tr>\n",
       "      <th>2007-09-30</th>\n",
       "      <td>149.954738</td>\n",
       "      <td>77.135263</td>\n",
       "      <td>150.572105</td>\n",
       "      <td>77.599473</td>\n",
       "      <td>148.940527</td>\n",
       "      <td>76.128948</td>\n",
       "      <td>149.709474</td>\n",
       "      <td>76.680526</td>\n",
       "      <td>1.561584e+08</td>\n",
       "      <td>3265.368421</td>\n",
       "      <td>0.029586</td>\n",
       "      <td>1.631578</td>\n",
       "      <td>1</td>\n",
       "      <td>112.5314</td>\n",
       "      <td>-0.101171</td>\n",
       "      <td>-0.848879</td>\n",
       "      <td>-0.023169</td>\n",
       "      <td>5.226190</td>\n",
       "      <td>-0.350879</td>\n",
       "    </tr>\n",
       "    <tr>\n",
       "      <th>2007-10-31</th>\n",
       "      <td>153.871303</td>\n",
       "      <td>82.456957</td>\n",
       "      <td>154.649131</td>\n",
       "      <td>82.999131</td>\n",
       "      <td>152.781304</td>\n",
       "      <td>81.205652</td>\n",
       "      <td>153.886087</td>\n",
       "      <td>81.946521</td>\n",
       "      <td>1.673943e+08</td>\n",
       "      <td>3216.260870</td>\n",
       "      <td>0.026118</td>\n",
       "      <td>1.867826</td>\n",
       "      <td>1</td>\n",
       "      <td>113.2724</td>\n",
       "      <td>-0.040119</td>\n",
       "      <td>0.079020</td>\n",
       "      <td>0.160989</td>\n",
       "      <td>2.890667</td>\n",
       "      <td>-0.365979</td>\n",
       "    </tr>\n",
       "    <tr>\n",
       "      <th>2007-11-30</th>\n",
       "      <td>146.478095</td>\n",
       "      <td>92.060953</td>\n",
       "      <td>147.920952</td>\n",
       "      <td>93.143333</td>\n",
       "      <td>145.229525</td>\n",
       "      <td>91.029524</td>\n",
       "      <td>146.837620</td>\n",
       "      <td>92.288572</td>\n",
       "      <td>2.606052e+08</td>\n",
       "      <td>1937.190476</td>\n",
       "      <td>-0.048048</td>\n",
       "      <td>2.691427</td>\n",
       "      <td>0</td>\n",
       "      <td>113.7429</td>\n",
       "      <td>-0.376144</td>\n",
       "      <td>-1.564182</td>\n",
       "      <td>0.048327</td>\n",
       "      <td>2.856990</td>\n",
       "      <td>-0.681337</td>\n",
       "    </tr>\n",
       "  </tbody>\n",
       "</table>\n",
       "</div>"
      ],
      "text/plain": [
       "            Brent Close  SPY Close  Brent High   SPY High   Brent Low  \\\n",
       "Date                                                                    \n",
       "2007-07-31   146.550003  76.395000  148.635002  76.849998  145.164993   \n",
       "2007-08-31   145.645652  71.258696  147.026522  72.037826  144.069999   \n",
       "2007-09-30   149.954738  77.135263  150.572105  77.599473  148.940527   \n",
       "2007-10-31   153.871303  82.456957  154.649131  82.999131  152.781304   \n",
       "2007-11-30   146.478095  92.060953  147.920952  93.143333  145.229525   \n",
       "\n",
       "              SPY Low  Brent Open   SPY Open  Brent Volume   SPY Volume  \\\n",
       "Date                                                                      \n",
       "2007-07-31  75.555000  147.129997  75.774998  2.999971e+08  3044.000000   \n",
       "2007-08-31  70.489130  145.690868  71.391306  2.693878e+08  4436.173913   \n",
       "2007-09-30  76.128948  149.709474  76.680526  1.561584e+08  3265.368421   \n",
       "2007-10-31  81.205652  153.886087  81.946521  1.673943e+08  3216.260870   \n",
       "2007-11-30  91.029524  146.837620  92.288572  2.606052e+08  1937.190476   \n",
       "\n",
       "              Return       H-L  Dir  Industrial Production  GEC Index  \\\n",
       "Date                                                                    \n",
       "2007-07-31       NaN  3.470009    0               111.9780   0.258167   \n",
       "2007-08-31 -0.006171  2.956523    0               112.4597  -0.134781   \n",
       "2007-09-30  0.029586  1.631578    1               112.5314  -0.101171   \n",
       "2007-10-31  0.026118  1.867826    1               113.2724  -0.040119   \n",
       "2007-11-30 -0.048048  2.691427    0               113.7429  -0.376144   \n",
       "\n",
       "            Supply Shocks  Economic Demand  Consumption Demand  \\\n",
       "Date                                                             \n",
       "2007-07-31       0.314248         0.085265            4.125458   \n",
       "2007-08-31      -0.701338        -0.118095           -2.180688   \n",
       "2007-09-30      -0.848879        -0.023169            5.226190   \n",
       "2007-10-31       0.079020         0.160989            2.890667   \n",
       "2007-11-30      -1.564182         0.048327            2.856990   \n",
       "\n",
       "            Inventory Demand  \n",
       "Date                          \n",
       "2007-07-31         -0.862854  \n",
       "2007-08-31         -1.224690  \n",
       "2007-09-30         -0.350879  \n",
       "2007-10-31         -0.365979  \n",
       "2007-11-30         -0.681337  "
      ]
     },
     "execution_count": 72,
     "metadata": {},
     "output_type": "execute_result"
    }
   ],
   "source": [
    "# Importing Christiane Baumiester macroeconomic data.\n",
    "\n",
    "df2 = pd.read_excel('/Users/petepritchard/Documents/Python/G7/data/baumeister_data.xlsx', index_col=\"Date\")\n",
    "df = df.join(df2)\n",
    "df.head()"
   ]
  },
  {
   "cell_type": "code",
   "execution_count": 86,
   "id": "a034e3c5",
   "metadata": {},
   "outputs": [],
   "source": [
    "df[\"Dir IP\"] = (df[\"Industrial Production\"].pct_change() >= 0).astype(int) ### 1 = Up, 0 = Down\n",
    "df[\"Dir SPY\"] = (df[\"SPY Close\"].pct_change() >= 0).astype(int) ### 1 = Up, 0 = Down"
   ]
  },
  {
   "cell_type": "code",
   "execution_count": 73,
   "id": "6a56bac2",
   "metadata": {},
   "outputs": [],
   "source": [
    "df = df.dropna()"
   ]
  },
  {
   "cell_type": "code",
   "execution_count": 87,
   "id": "6b7f6759",
   "metadata": {},
   "outputs": [
    {
     "data": {
      "text/html": [
       "<div>\n",
       "<style scoped>\n",
       "    .dataframe tbody tr th:only-of-type {\n",
       "        vertical-align: middle;\n",
       "    }\n",
       "\n",
       "    .dataframe tbody tr th {\n",
       "        vertical-align: top;\n",
       "    }\n",
       "\n",
       "    .dataframe thead th {\n",
       "        text-align: right;\n",
       "    }\n",
       "</style>\n",
       "<table border=\"1\" class=\"dataframe\">\n",
       "  <thead>\n",
       "    <tr style=\"text-align: right;\">\n",
       "      <th></th>\n",
       "      <th>Dir SPY</th>\n",
       "      <th>H-L</th>\n",
       "      <th>Dir IP</th>\n",
       "      <th>GEC Index</th>\n",
       "      <th>Supply Shocks</th>\n",
       "      <th>Economic Demand</th>\n",
       "      <th>Consumption Demand</th>\n",
       "      <th>Inventory Demand</th>\n",
       "    </tr>\n",
       "    <tr>\n",
       "      <th>Date</th>\n",
       "      <th></th>\n",
       "      <th></th>\n",
       "      <th></th>\n",
       "      <th></th>\n",
       "      <th></th>\n",
       "      <th></th>\n",
       "      <th></th>\n",
       "      <th></th>\n",
       "    </tr>\n",
       "  </thead>\n",
       "  <tbody>\n",
       "    <tr>\n",
       "      <th>2007-08-31</th>\n",
       "      <td>0</td>\n",
       "      <td>2.956523</td>\n",
       "      <td>0</td>\n",
       "      <td>-0.134781</td>\n",
       "      <td>-0.701338</td>\n",
       "      <td>-0.118095</td>\n",
       "      <td>-2.180688</td>\n",
       "      <td>-1.224690</td>\n",
       "    </tr>\n",
       "    <tr>\n",
       "      <th>2007-09-30</th>\n",
       "      <td>1</td>\n",
       "      <td>1.631578</td>\n",
       "      <td>1</td>\n",
       "      <td>-0.101171</td>\n",
       "      <td>-0.848879</td>\n",
       "      <td>-0.023169</td>\n",
       "      <td>5.226190</td>\n",
       "      <td>-0.350879</td>\n",
       "    </tr>\n",
       "    <tr>\n",
       "      <th>2007-10-31</th>\n",
       "      <td>1</td>\n",
       "      <td>1.867826</td>\n",
       "      <td>1</td>\n",
       "      <td>-0.040119</td>\n",
       "      <td>0.079020</td>\n",
       "      <td>0.160989</td>\n",
       "      <td>2.890667</td>\n",
       "      <td>-0.365979</td>\n",
       "    </tr>\n",
       "    <tr>\n",
       "      <th>2007-11-30</th>\n",
       "      <td>1</td>\n",
       "      <td>2.691427</td>\n",
       "      <td>1</td>\n",
       "      <td>-0.376144</td>\n",
       "      <td>-1.564182</td>\n",
       "      <td>0.048327</td>\n",
       "      <td>2.856990</td>\n",
       "      <td>-0.681337</td>\n",
       "    </tr>\n",
       "    <tr>\n",
       "      <th>2007-12-31</th>\n",
       "      <td>0</td>\n",
       "      <td>1.954999</td>\n",
       "      <td>1</td>\n",
       "      <td>-0.441074</td>\n",
       "      <td>0.232696</td>\n",
       "      <td>-0.116146</td>\n",
       "      <td>-2.488767</td>\n",
       "      <td>0.557617</td>\n",
       "    </tr>\n",
       "  </tbody>\n",
       "</table>\n",
       "</div>"
      ],
      "text/plain": [
       "            Dir SPY       H-L  Dir IP  GEC Index  Supply Shocks  \\\n",
       "Date                                                              \n",
       "2007-08-31        0  2.956523       0  -0.134781      -0.701338   \n",
       "2007-09-30        1  1.631578       1  -0.101171      -0.848879   \n",
       "2007-10-31        1  1.867826       1  -0.040119       0.079020   \n",
       "2007-11-30        1  2.691427       1  -0.376144      -1.564182   \n",
       "2007-12-31        0  1.954999       1  -0.441074       0.232696   \n",
       "\n",
       "            Economic Demand  Consumption Demand  Inventory Demand  \n",
       "Date                                                               \n",
       "2007-08-31        -0.118095           -2.180688         -1.224690  \n",
       "2007-09-30        -0.023169            5.226190         -0.350879  \n",
       "2007-10-31         0.160989            2.890667         -0.365979  \n",
       "2007-11-30         0.048327            2.856990         -0.681337  \n",
       "2007-12-31        -0.116146           -2.488767          0.557617  "
      ]
     },
     "execution_count": 87,
     "metadata": {},
     "output_type": "execute_result"
    }
   ],
   "source": [
    "X = df[[\"Dir SPY\",\"H-L\",\"Dir IP\",\"GEC Index\",\"Supply Shocks\",\"Economic Demand\",\n",
    "      \"Consumption Demand\", \"Inventory Demand\"]].copy()\n",
    "\n",
    "X.head()"
   ]
  },
  {
   "cell_type": "code",
   "execution_count": 88,
   "id": "01b393a4",
   "metadata": {},
   "outputs": [
    {
     "data": {
      "text/plain": [
       "Date\n",
       "2007-08-31    0\n",
       "2007-09-30    1\n",
       "2007-10-31    1\n",
       "2007-11-30    0\n",
       "2007-12-31    1\n",
       "Freq: M, Name: Dir, dtype: int64"
      ]
     },
     "execution_count": 88,
     "metadata": {},
     "output_type": "execute_result"
    }
   ],
   "source": [
    "y = df['Dir'].copy()\n",
    "\n",
    "y.head()"
   ]
  },
  {
   "cell_type": "code",
   "execution_count": 89,
   "id": "99a76149",
   "metadata": {},
   "outputs": [],
   "source": [
    "split_percentage = 0.8\n",
    "split = int(split_percentage*len(df))\n",
    "  \n",
    "# Train data set\n",
    "X_train = X[:split]\n",
    "y_train = y[:split]\n",
    "  \n",
    "# Test data set\n",
    "X_test = X[split:]\n",
    "y_test = y[split:]\n",
    "\n",
    "X_train_scaled = scale(X_train)\n",
    "X_test_scaled = scale(X_test)"
   ]
  },
  {
   "cell_type": "markdown",
   "id": "d251e2cc",
   "metadata": {},
   "source": [
    "# 2: Preliminary Support Vector Machine"
   ]
  },
  {
   "cell_type": "code",
   "execution_count": 90,
   "id": "948a7125",
   "metadata": {},
   "outputs": [
    {
     "data": {
      "text/html": [
       "<style>#sk-container-id-3 {color: black;background-color: white;}#sk-container-id-3 pre{padding: 0;}#sk-container-id-3 div.sk-toggleable {background-color: white;}#sk-container-id-3 label.sk-toggleable__label {cursor: pointer;display: block;width: 100%;margin-bottom: 0;padding: 0.3em;box-sizing: border-box;text-align: center;}#sk-container-id-3 label.sk-toggleable__label-arrow:before {content: \"▸\";float: left;margin-right: 0.25em;color: #696969;}#sk-container-id-3 label.sk-toggleable__label-arrow:hover:before {color: black;}#sk-container-id-3 div.sk-estimator:hover label.sk-toggleable__label-arrow:before {color: black;}#sk-container-id-3 div.sk-toggleable__content {max-height: 0;max-width: 0;overflow: hidden;text-align: left;background-color: #f0f8ff;}#sk-container-id-3 div.sk-toggleable__content pre {margin: 0.2em;color: black;border-radius: 0.25em;background-color: #f0f8ff;}#sk-container-id-3 input.sk-toggleable__control:checked~div.sk-toggleable__content {max-height: 200px;max-width: 100%;overflow: auto;}#sk-container-id-3 input.sk-toggleable__control:checked~label.sk-toggleable__label-arrow:before {content: \"▾\";}#sk-container-id-3 div.sk-estimator input.sk-toggleable__control:checked~label.sk-toggleable__label {background-color: #d4ebff;}#sk-container-id-3 div.sk-label input.sk-toggleable__control:checked~label.sk-toggleable__label {background-color: #d4ebff;}#sk-container-id-3 input.sk-hidden--visually {border: 0;clip: rect(1px 1px 1px 1px);clip: rect(1px, 1px, 1px, 1px);height: 1px;margin: -1px;overflow: hidden;padding: 0;position: absolute;width: 1px;}#sk-container-id-3 div.sk-estimator {font-family: monospace;background-color: #f0f8ff;border: 1px dotted black;border-radius: 0.25em;box-sizing: border-box;margin-bottom: 0.5em;}#sk-container-id-3 div.sk-estimator:hover {background-color: #d4ebff;}#sk-container-id-3 div.sk-parallel-item::after {content: \"\";width: 100%;border-bottom: 1px solid gray;flex-grow: 1;}#sk-container-id-3 div.sk-label:hover label.sk-toggleable__label {background-color: #d4ebff;}#sk-container-id-3 div.sk-serial::before {content: \"\";position: absolute;border-left: 1px solid gray;box-sizing: border-box;top: 0;bottom: 0;left: 50%;z-index: 0;}#sk-container-id-3 div.sk-serial {display: flex;flex-direction: column;align-items: center;background-color: white;padding-right: 0.2em;padding-left: 0.2em;position: relative;}#sk-container-id-3 div.sk-item {position: relative;z-index: 1;}#sk-container-id-3 div.sk-parallel {display: flex;align-items: stretch;justify-content: center;background-color: white;position: relative;}#sk-container-id-3 div.sk-item::before, #sk-container-id-3 div.sk-parallel-item::before {content: \"\";position: absolute;border-left: 1px solid gray;box-sizing: border-box;top: 0;bottom: 0;left: 50%;z-index: -1;}#sk-container-id-3 div.sk-parallel-item {display: flex;flex-direction: column;z-index: 1;position: relative;background-color: white;}#sk-container-id-3 div.sk-parallel-item:first-child::after {align-self: flex-end;width: 50%;}#sk-container-id-3 div.sk-parallel-item:last-child::after {align-self: flex-start;width: 50%;}#sk-container-id-3 div.sk-parallel-item:only-child::after {width: 0;}#sk-container-id-3 div.sk-dashed-wrapped {border: 1px dashed gray;margin: 0 0.4em 0.5em 0.4em;box-sizing: border-box;padding-bottom: 0.4em;background-color: white;}#sk-container-id-3 div.sk-label label {font-family: monospace;font-weight: bold;display: inline-block;line-height: 1.2em;}#sk-container-id-3 div.sk-label-container {text-align: center;}#sk-container-id-3 div.sk-container {/* jupyter's `normalize.less` sets `[hidden] { display: none; }` but bootstrap.min.css set `[hidden] { display: none !important; }` so we also need the `!important` here to be able to override the default hidden behavior on the sphinx rendered scikit-learn.org. See: https://github.com/scikit-learn/scikit-learn/issues/21755 */display: inline-block !important;position: relative;}#sk-container-id-3 div.sk-text-repr-fallback {display: none;}</style><div id=\"sk-container-id-3\" class=\"sk-top-container\"><div class=\"sk-text-repr-fallback\"><pre>SVC()</pre><b>In a Jupyter environment, please rerun this cell to show the HTML representation or trust the notebook. <br />On GitHub, the HTML representation is unable to render, please try loading this page with nbviewer.org.</b></div><div class=\"sk-container\" hidden><div class=\"sk-item\"><div class=\"sk-estimator sk-toggleable\"><input class=\"sk-toggleable__control sk-hidden--visually\" id=\"sk-estimator-id-3\" type=\"checkbox\" checked><label for=\"sk-estimator-id-3\" class=\"sk-toggleable__label sk-toggleable__label-arrow\">SVC</label><div class=\"sk-toggleable__content\"><pre>SVC()</pre></div></div></div></div></div>"
      ],
      "text/plain": [
       "SVC()"
      ]
     },
     "execution_count": 90,
     "metadata": {},
     "output_type": "execute_result"
    }
   ],
   "source": [
    "clf_svm = SVC()\n",
    "clf_svm.fit(X_train_scaled, y_train)"
   ]
  },
  {
   "cell_type": "code",
   "execution_count": 91,
   "id": "5b31424b",
   "metadata": {},
   "outputs": [
    {
     "name": "stderr",
     "output_type": "stream",
     "text": [
      "/Library/Frameworks/Python.framework/Versions/3.8/lib/python3.8/site-packages/sklearn/utils/deprecation.py:87: FutureWarning: Function plot_confusion_matrix is deprecated; Function `plot_confusion_matrix` is deprecated in 1.0 and will be removed in 1.2. Use one of the class methods: ConfusionMatrixDisplay.from_predictions or ConfusionMatrixDisplay.from_estimator.\n",
      "  warnings.warn(msg, category=FutureWarning)\n"
     ]
    },
    {
     "data": {
      "text/plain": [
       "<sklearn.metrics._plot.confusion_matrix.ConfusionMatrixDisplay at 0x7faa82b61760>"
      ]
     },
     "execution_count": 91,
     "metadata": {},
     "output_type": "execute_result"
    },
    {
     "data": {
      "image/png": "[encoded data removed]",
      "text/plain": [
       "<Figure size 432x288 with 2 Axes>"
      ]
     },
     "metadata": {
      "needs_background": "light"
     },
     "output_type": "display_data"
    }
   ],
   "source": [
    "plot_confusion_matrix(clf_svm, \n",
    "                     X_test_scaled, \n",
    "                     y_test,\n",
    "                     values_format=\"d\",\n",
    "                     display_labels=[\"Decrease\", \"Increase\"])"
   ]
  },
  {
   "cell_type": "markdown",
   "id": "0884344d",
   "metadata": {},
   "source": [
    "In the confusion matrix, we can see that of the __8__ months when the Brent Oil price decreased, __5(62.5%)__ were correctly predicted. And of the __27__ months when the price increased, __23(85.2%)__ were correctly predicted. Not awful, but now I'll try to imporve the model use __cross validation__ to optimize the parameters."
   ]
  },
  {
   "cell_type": "markdown",
   "id": "6edbc6d8",
   "metadata": {},
   "source": [
    "# 3: Optimize Parameters with Cross Validation and GridSearchCV()"
   ]
  },
  {
   "cell_type": "code",
   "execution_count": 92,
   "id": "59cd16a6",
   "metadata": {},
   "outputs": [
    {
     "name": "stdout",
     "output_type": "stream",
     "text": [
      "{'C': 100, 'gamma': 0.001, 'kernel': 'rbf'}\n"
     ]
    }
   ],
   "source": [
    "param_grid = [\n",
    "    {'C': [0.5, 1, 10, 100], # Note: Values for C must be > 0 \n",
    "     'gamma': ['scale', 1, 0.1, 0.001, 0.0001],\n",
    "     'kernel': ['rbf']},\n",
    "]\n",
    "\n",
    "## Note: We are including C=1 and gamma=\"scale\"\n",
    "## as possible choices since they are the default values. \n",
    "\n",
    "optimal_params = GridSearchCV(\n",
    "        SVC(),\n",
    "        param_grid,\n",
    "        cv=5,\n",
    "        scoring='accuracy',\n",
    "        verbose=0 # Note: If you want to see what Grid Search is doing set verbose=2\n",
    "    )\n",
    "\n",
    "optimal_params.fit(X_train_scaled, y_train)\n",
    "print(optimal_params.best_params_)"
   ]
  },
  {
   "cell_type": "markdown",
   "id": "d213d980",
   "metadata": {},
   "source": [
    "# 4: Building final Support Vector Machine "
   ]
  },
  {
   "cell_type": "code",
   "execution_count": 93,
   "id": "7a3fd654",
   "metadata": {},
   "outputs": [
    {
     "data": {
      "text/html": [
       "<style>#sk-container-id-4 {color: black;background-color: white;}#sk-container-id-4 pre{padding: 0;}#sk-container-id-4 div.sk-toggleable {background-color: white;}#sk-container-id-4 label.sk-toggleable__label {cursor: pointer;display: block;width: 100%;margin-bottom: 0;padding: 0.3em;box-sizing: border-box;text-align: center;}#sk-container-id-4 label.sk-toggleable__label-arrow:before {content: \"▸\";float: left;margin-right: 0.25em;color: #696969;}#sk-container-id-4 label.sk-toggleable__label-arrow:hover:before {color: black;}#sk-container-id-4 div.sk-estimator:hover label.sk-toggleable__label-arrow:before {color: black;}#sk-container-id-4 div.sk-toggleable__content {max-height: 0;max-width: 0;overflow: hidden;text-align: left;background-color: #f0f8ff;}#sk-container-id-4 div.sk-toggleable__content pre {margin: 0.2em;color: black;border-radius: 0.25em;background-color: #f0f8ff;}#sk-container-id-4 input.sk-toggleable__control:checked~div.sk-toggleable__content {max-height: 200px;max-width: 100%;overflow: auto;}#sk-container-id-4 input.sk-toggleable__control:checked~label.sk-toggleable__label-arrow:before {content: \"▾\";}#sk-container-id-4 div.sk-estimator input.sk-toggleable__control:checked~label.sk-toggleable__label {background-color: #d4ebff;}#sk-container-id-4 div.sk-label input.sk-toggleable__control:checked~label.sk-toggleable__label {background-color: #d4ebff;}#sk-container-id-4 input.sk-hidden--visually {border: 0;clip: rect(1px 1px 1px 1px);clip: rect(1px, 1px, 1px, 1px);height: 1px;margin: -1px;overflow: hidden;padding: 0;position: absolute;width: 1px;}#sk-container-id-4 div.sk-estimator {font-family: monospace;background-color: #f0f8ff;border: 1px dotted black;border-radius: 0.25em;box-sizing: border-box;margin-bottom: 0.5em;}#sk-container-id-4 div.sk-estimator:hover {background-color: #d4ebff;}#sk-container-id-4 div.sk-parallel-item::after {content: \"\";width: 100%;border-bottom: 1px solid gray;flex-grow: 1;}#sk-container-id-4 div.sk-label:hover label.sk-toggleable__label {background-color: #d4ebff;}#sk-container-id-4 div.sk-serial::before {content: \"\";position: absolute;border-left: 1px solid gray;box-sizing: border-box;top: 0;bottom: 0;left: 50%;z-index: 0;}#sk-container-id-4 div.sk-serial {display: flex;flex-direction: column;align-items: center;background-color: white;padding-right: 0.2em;padding-left: 0.2em;position: relative;}#sk-container-id-4 div.sk-item {position: relative;z-index: 1;}#sk-container-id-4 div.sk-parallel {display: flex;align-items: stretch;justify-content: center;background-color: white;position: relative;}#sk-container-id-4 div.sk-item::before, #sk-container-id-4 div.sk-parallel-item::before {content: \"\";position: absolute;border-left: 1px solid gray;box-sizing: border-box;top: 0;bottom: 0;left: 50%;z-index: -1;}#sk-container-id-4 div.sk-parallel-item {display: flex;flex-direction: column;z-index: 1;position: relative;background-color: white;}#sk-container-id-4 div.sk-parallel-item:first-child::after {align-self: flex-end;width: 50%;}#sk-container-id-4 div.sk-parallel-item:last-child::after {align-self: flex-start;width: 50%;}#sk-container-id-4 div.sk-parallel-item:only-child::after {width: 0;}#sk-container-id-4 div.sk-dashed-wrapped {border: 1px dashed gray;margin: 0 0.4em 0.5em 0.4em;box-sizing: border-box;padding-bottom: 0.4em;background-color: white;}#sk-container-id-4 div.sk-label label {font-family: monospace;font-weight: bold;display: inline-block;line-height: 1.2em;}#sk-container-id-4 div.sk-label-container {text-align: center;}#sk-container-id-4 div.sk-container {/* jupyter's `normalize.less` sets `[hidden] { display: none; }` but bootstrap.min.css set `[hidden] { display: none !important; }` so we also need the `!important` here to be able to override the default hidden behavior on the sphinx rendered scikit-learn.org. See: https://github.com/scikit-learn/scikit-learn/issues/21755 */display: inline-block !important;position: relative;}#sk-container-id-4 div.sk-text-repr-fallback {display: none;}</style><div id=\"sk-container-id-4\" class=\"sk-top-container\"><div class=\"sk-text-repr-fallback\"><pre>SVC(C=100, gamma=0.001)</pre><b>In a Jupyter environment, please rerun this cell to show the HTML representation or trust the notebook. <br />On GitHub, the HTML representation is unable to render, please try loading this page with nbviewer.org.</b></div><div class=\"sk-container\" hidden><div class=\"sk-item\"><div class=\"sk-estimator sk-toggleable\"><input class=\"sk-toggleable__control sk-hidden--visually\" id=\"sk-estimator-id-4\" type=\"checkbox\" checked><label for=\"sk-estimator-id-4\" class=\"sk-toggleable__label sk-toggleable__label-arrow\">SVC</label><div class=\"sk-toggleable__content\"><pre>SVC(C=100, gamma=0.001)</pre></div></div></div></div></div>"
      ],
      "text/plain": [
       "SVC(C=100, gamma=0.001)"
      ]
     },
     "execution_count": 93,
     "metadata": {},
     "output_type": "execute_result"
    }
   ],
   "source": [
    "clf_svm = SVC(C=100, gamma=0.001)\n",
    "clf_svm.fit(X_train_scaled, y_train)"
   ]
  },
  {
   "cell_type": "code",
   "execution_count": 94,
   "id": "b1a9423d",
   "metadata": {},
   "outputs": [
    {
     "name": "stderr",
     "output_type": "stream",
     "text": [
      "/Library/Frameworks/Python.framework/Versions/3.8/lib/python3.8/site-packages/sklearn/utils/deprecation.py:87: FutureWarning: Function plot_confusion_matrix is deprecated; Function `plot_confusion_matrix` is deprecated in 1.0 and will be removed in 1.2. Use one of the class methods: ConfusionMatrixDisplay.from_predictions or ConfusionMatrixDisplay.from_estimator.\n",
      "  warnings.warn(msg, category=FutureWarning)\n"
     ]
    },
    {
     "data": {
      "text/plain": [
       "<sklearn.metrics._plot.confusion_matrix.ConfusionMatrixDisplay at 0x7faa854c0e50>"
      ]
     },
     "execution_count": 94,
     "metadata": {},
     "output_type": "execute_result"
    },
    {
     "data": {
      "image/png": "[encoded data removed]",
      "text/plain": [
       "<Figure size 432x288 with 2 Axes>"
      ]
     },
     "metadata": {
      "needs_background": "light"
     },
     "output_type": "display_data"
    }
   ],
   "source": [
    "plot_confusion_matrix(clf_svm, \n",
    "                     X_test_scaled, \n",
    "                     y_test,\n",
    "                     values_format=\"d\",\n",
    "                     display_labels=[\"Decrease\", \"Increase\"])"
   ]
  },
  {
   "cell_type": "code",
   "execution_count": 95,
   "id": "96c4c51c",
   "metadata": {},
   "outputs": [
    {
     "data": {
      "text/plain": [
       "<function matplotlib.pyplot.show(close=None, block=None)>"
      ]
     },
     "execution_count": 95,
     "metadata": {},
     "output_type": "execute_result"
    },
    {
     "data": {
      "image/png": "[encoded data removed]",
      "text/plain": [
       "<Figure size 432x288 with 1 Axes>"
      ]
     },
     "metadata": {
      "needs_background": "light"
     },
     "output_type": "display_data"
    }
   ],
   "source": [
    "pca = PCA() # Note: By default, PCA() centers the data, but does not scale it.\n",
    "X_train_pca = pca.fit_transform(X_train_scaled)\n",
    "\n",
    "per_var = np.round(pca.explained_variance_ratio_ * 100, decimals=1)\n",
    "labels = [str(x) for x in range(1, len(per_var)+1)]\n",
    "\n",
    "plt.bar(x=range(1, len(per_var)+1), height=per_var)\n",
    "plt.tick_params(\n",
    "    axis='x',           # changes apply to the x-axis\n",
    "    which='both',       # both major and minor ticks are affected\n",
    "    bottom=False,       # ticks along the bottom edge are off\n",
    "    top=False,          # ticks along the top edge are off\n",
    "    labelbottom=False)  # labels along the bottom edge are off\n",
    "plt.ylabel('Percentage of Explained Variance')\n",
    "plt.xlabel('Principal Components')\n",
    "plt.title('Scree Plot')\n",
    "plt.show"
   ]
  }
 ],
 "metadata": {
  "kernelspec": {
   "display_name": "Python 3",
   "language": "python",
   "name": "python3"
  },
  "language_info": {
   "codemirror_mode": {
    "name": "ipython",
    "version": 3
   },
   "file_extension": ".py",
   "mimetype": "text/x-python",
   "name": "python",
   "nbconvert_exporter": "python",
   "pygments_lexer": "ipython3",
   "version": "3.8.2"
  }
 },
 "nbformat": 4,
 "nbformat_minor": 5
}
